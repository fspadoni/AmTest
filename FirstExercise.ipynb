{
 "cells": [
  {
   "cell_type": "markdown",
   "metadata": {},
   "source": [
    "# First exercise: count the number of lines in Python for each file \n",
    "\n",
    "\n",
    "Configure Spark to run on local host\n",
    "\n",
    "Create a new Spark Context using for the computation the number of cores on the local machine"
   ]
  },
  {
   "cell_type": "code",
   "execution_count": 4,
   "metadata": {
    "collapsed": false
   },
   "outputs": [],
   "source": [
    "import org.apache.spark.SparkContext\n",
    "import org.apache.spark.SparkConf\n",
    "\n",
    "sc.stop\n",
    "\n",
    "val numCores = Runtime.getRuntime.availableProcessors() / 2\n",
    "\n",
    "val config = new SparkConf()\n",
    "config.setAppName(\"Counting Lines\")\n",
    "config.setMaster(\"local[\"+ numCores + \"]\")\n",
    "val sc = new SparkContext(config)"
   ]
  },
  {
   "cell_type": "markdown",
   "metadata": {},
   "source": [
    "Reading bookings.csv.bz2 and searches.csv.bz2\n",
    "The bz2 compressed format is splittable in Spark and can be processed by executors. \n",
    "No need to uncompressed before processing it."
   ]
  },
  {
   "cell_type": "code",
   "execution_count": 3,
   "metadata": {
    "collapsed": false
   },
   "outputs": [
    {
     "name": "stdout",
     "output_type": "stream",
     "text": [
      "Results:\n",
      "\n",
      "bookings file has 10000011 lines\n",
      "searches file has 20390199 lines\n"
     ]
    }
   ],
   "source": [
    "println(\"Results:\\n\")\n",
    "\n",
    "val bookings = sc.textFile(\"bookings.csv.bz2\")\n",
    "println(\"bookings file has \" + bookings.count  + \" lines\")\n",
    "\n",
    "val searches = sc.textFile(\"searches.csv.bz2\")\n",
    "println(\"searches file has \" + searches.count()  + \" lines\")"
   ]
  },
  {
   "cell_type": "code",
   "execution_count": null,
   "metadata": {
    "collapsed": true
   },
   "outputs": [],
   "source": []
  }
 ],
 "metadata": {
  "kernelspec": {
   "display_name": "Spark 1.6.1 (Scala)",
   "language": "",
   "name": "apache_toree_scala"
  },
  "language_info": {
   "name": "scala",
   "version": "2.10.4"
  }
 },
 "nbformat": 4,
 "nbformat_minor": 0
}
