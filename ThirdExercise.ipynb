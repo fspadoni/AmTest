{
 "cells": [
  {
   "cell_type": "markdown",
   "metadata": {},
   "source": [
    "# Third exercise: plot the monthly number of searches for flights arriving at Málaga, Madrid or Barcelona\n",
    "\n",
    "For the arriving airport, you can use the Destination column in the searches file. Plot a curve for Málaga, another one for Madrid, and another one for Barcelona, in the same figure. Bonus point: Solving this problem using pandas (instead of any other approach) "
   ]
  },
  {
   "cell_type": "code",
   "execution_count": 126,
   "metadata": {
    "collapsed": false
   },
   "outputs": [
    {
     "data": {
      "text/plain": [
       "20390198"
      ]
     },
     "execution_count": 126,
     "metadata": {},
     "output_type": "execute_result"
    }
   ],
   "source": [
    "val searches = sc.textFile(\"searches.csv.bz2\")\n",
    "\n",
    "// create an array of String for each line of RDD  cleandata: RDD[Array(String)]\n",
    "val cleandata = searches.map(line => line.split(\"\\\\^\").map(_.trim))  \n",
    "\n",
    "// remove the first line (header) of RDD\n",
    "val firstRow = cleandata.first\n",
    "val data = cleandata.filter( line => !line.contains(firstRow(0)) ) \n",
    "data.count"
   ]
  },
  {
   "cell_type": "code",
   "execution_count": 130,
   "metadata": {
    "collapsed": false
   },
   "outputs": [
    {
     "data": {
      "text/plain": [
       "Array(2013-01-01, 20:25:57, MPT, 624d8c3ac0b3a7ca03e3c167e0f48327, DE, TXL, AUH, 1, 2, TXL, AUH, 2013-01-26, D2, \"\", AUH, TXL, 2013-02-02, D2, \"\", \"\", \"\", \"\", \"\", \"\", \"\", \"\", \"\", \"\", \"\", \"\", \"\", \"\", \"\", \"\", \"\", \"\", \"\", \"\", \"\", 1ASIWS, 0, 0, 0, d41d8cd98f00b204e9800998ecf8427e, FRA)"
      ]
     },
     "execution_count": 130,
     "metadata": {},
     "output_type": "execute_result"
    }
   ],
   "source": [
    "val numberFields = firstRow.length   // number of columns excpected for each line\n",
    "val filteredData = data.filter( line => line.length >= numberFields)  // remove all the empty or not complete lines\n",
    "filteredData.first"
   ]
  },
  {
   "cell_type": "code",
   "execution_count": 146,
   "metadata": {
    "collapsed": false
   },
   "outputs": [
    {
     "data": {
      "text/plain": [
       "(MAD,2013-01-01)"
      ]
     },
     "execution_count": 146,
     "metadata": {},
     "output_type": "execute_result"
    }
   ],
   "source": [
    "val destination = firstRow.indexOf(\"Destination\") // index of destination airport column in csv data file\n",
    "val date = firstRow.indexOf(\"Date\")           // index of date column in csv data file\n",
    "\n",
    "// create a Key-Value RDD with Key=destination airport and Value=date\n",
    "val keyValRDD = filteredData.map( x => (x(destination), x(date) ) ) \n",
    "keyValRDD.first\n",
    "\n",
    "// quick test to run an action on the Key-Value RDD filtered by Key==Madrid\n",
    "val testSearches = keyValRDD.filter( kv => kv._1 == \"MAD\" )\n",
    "testSearches.first"
   ]
  },
  {
   "cell_type": "code",
   "execution_count": 183,
   "metadata": {
    "collapsed": false
   },
   "outputs": [],
   "source": [
    "import org.apache.spark.rdd.RDD\n",
    "\n",
    "// function to count in the Key-Value RDD the number of date (Value) in the same month\n",
    "def getSearchesPerMonth( searches: RDD[(String, java.util.Date)], month: Int) : Long =\n",
    "{\n",
    "    val filteredSearches = searches.filter( kv=> kv._2.getMonth() == month )\n",
    "    return filteredSearches.count\n",
    "}\n",
    "\n",
    "\n",
    "// funtion to select from the Key-Value RDD only the pair with the Key = destination airport\n",
    "// it also converts the Value String to a date format\n",
    "def getSearchesForAirport( searches: RDD[(String, String)], airport: String) : RDD[(String, java.util.Date)] =\n",
    "{\n",
    "    // slect only tha Key = airport \n",
    "    val searchesAirport = searches.filter( kv => kv._1 == airport )\n",
    "    \n",
    "    // convert the Value String to a Value date format (java.util.Date)\n",
    "    val format = new java.text.SimpleDateFormat(\"yyyy-MM-dd\")\n",
    "    val returnValue = searchesAirport.mapValues( v => format.parse( v ));\n",
    "    \n",
    "    return returnValue\n",
    "}\n",
    "\n",
    "\n",
    "// month array\n",
    "val monthNumberToName = Array( \"Jan\",\"Feb\", \"Mar\",\"Apr\",\"May\",\"Jun\",\"Jul\",\"Aug\",\"Sep\",\"Oct\",\"Nov\",\"Dec\")\n",
    "\n",
    "// airport codes\n",
    "val Madrid = \"MAD\"\n",
    "val Barcellona = \"BCN\"\n",
    "val Malaga = \"AGP\"\n",
    "\n",
    "// select the searches for each airport\n",
    "val madridSearches = getSearchesForAirport(keyValRDD, Madrid)\n",
    "val barcellonaSearches = getSearchesForAirport(keyValRDD, Barcellona )\n",
    "val malagaSearches = getSearchesForAirport( keyValRDD, Malaga )\n",
    "\n",
    "\n",
    "//allocate the 12 size arrays to store the motnhly searches [(month, search counts)]\n",
    "var malagaMonthlySearches = new Array[(String,Long)]( monthNumberToName.length )\n",
    "var madridMonthlySearches = new Array[(String,Long)]( monthNumberToName.length )\n",
    "var barcellonaMonthlySearches = new Array[(String,Long)]( monthNumberToName.length )\n",
    "\n",
    "\n",
    "// fill the arrays with the searches count for each month\n",
    "\n",
    "for( month <- 0 until monthNumberToName.length )\n",
    "{\n",
    "    malagaMonthlySearches(month) = ( monthNumberToName(month), getSearchesPerMonth(malagaSearches, month) )\n",
    "    madridMonthlySearches(month) = ( monthNumberToName(month),  getSearchesPerMonth(madridSearches, month) )\n",
    "    barcellonaMonthlySearches(month) = ( monthNumberToName(month), getSearchesPerMonth(barcellonaSearches, month) ) \n",
    "}\n"
   ]
  },
  {
   "cell_type": "markdown",
   "metadata": {
    "collapsed": true
   },
   "source": [
    "\n",
    "There are no built-in plot functions available in Scala and Spark\n",
    "Some external library must be used like ScalaPlot ,Breeze ..\n",
    "No time to bind these libraries and I just print a tab with the results\n"
   ]
  },
  {
   "cell_type": "code",
   "execution_count": 186,
   "metadata": {
    "collapsed": false
   },
   "outputs": [
    {
     "name": "stdout",
     "output_type": "stream",
     "text": [
      "Results: \n",
      "Searches for arriving flights\n",
      "\n",
      "Month\tMalaga\tMadrid\tBarcellona\n",
      "Jan\t9633\t24258\t29469\n",
      "Feb\t8379\t22800\t28329\n",
      "Mar\t10659\t24681\t30552\n",
      "Apr\t8265\t25251\t31236\n",
      "May\t10830\t26334\t28728\n",
      "Jun\t7923\t22800\t26505\n",
      "Jul\t8892\t22971\t29241\n",
      "Aug\t7866\t21831\t27075\n",
      "Sep\t8151\t21147\t23427\n",
      "Oct\t6499\t22294\t20276\n",
      "Nov\t6384\t20272\t19824\n",
      "Dec\t3696\t14504\t15400\n"
     ]
    }
   ],
   "source": [
    "\n",
    "println( \"Results: \\nSearches for arriving flights\\n\")\n",
    "println( \"Month\\tMalaga\\tMadrid\\tBarcellona\")\n",
    "\n",
    "\n",
    "for( month <- 0 until monthNumberToName.length )\n",
    "{\n",
    "    println( monthNumberToName(month) \n",
    "    + \"\\t\" + malagaMonthlySearches( month)._2 \n",
    "    + \"\\t\" + madridMonthlySearches( month)._2\n",
    "    + \"\\t\" + barcellonaMonthlySearches( month) ._2\n",
    "    )\n",
    "}"
   ]
  },
  {
   "cell_type": "markdown",
   "metadata": {},
   "source": [
    "The Scala shell complains about Suppressing empty output ''\n",
    "\n",
    "[WARN] o.a.t.k.p.v.s.KernelOutputStream - Suppressing empty output: '\\r\\s\\s\\s\\s\\s\\s\\s\\s\\s\\s\\s\\s\\s\\s\\s\\s\\s\\s\\s\\s\\s\\s\\s\\s\\s\\s\\s\\s\\s\\s\\s\\s\\s\\s\\s\\s\\s\\s\\s\\s\\s\\s\\s\\s\\s\\s\\s\\s\\s\\s\\s\\s\\s\\s\\s\\s\\s\\s\\s\\s\\s\\s\\s\\s\\s\\s\\s\\s\\s\\s\\s\\s\\s\\s\\s\\s\\s\\s\\s\\s\\r'\n",
    "\n",
    "\n",
    "That's a warning and I am not sure why it complains and I was not able to fix it.\n",
    "\n",
    "It's also not clear why Jupyter Syntax highlighting doesn't work on these last cells with functions and code.\n"
   ]
  }
 ],
 "metadata": {
  "kernelspec": {
   "display_name": "Spark 1.6.1 (Scala)",
   "language": "",
   "name": "apache_toree_scala"
  },
  "language_info": {
   "name": "scala",
   "version": "2.10.4"
  }
 },
 "nbformat": 4,
 "nbformat_minor": 0
}
